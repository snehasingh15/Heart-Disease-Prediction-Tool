{
 "cells": [
  {
   "cell_type": "code",
   "execution_count": null,
   "id": "42f62da1-c222-47b1-931e-aa4ffe038a50",
   "metadata": {},
   "outputs": [],
   "source": [
    "# IMPORT LIBRARIES \n",
    "import pandas as pd\n",
    "import numpy as np\n",
    "import matplotlib.pyplot as plt\n",
    "from sklearn.model_selection import train_test_split\n",
    "from sklearn.ensemble import RandomForestClassifier\n",
    "from sklearn.preprocessing import LabelEncoder\n",
    "from sklearn.metrics import accuracy_score, classification_report"
   ]
  },
  {
   "cell_type": "code",
   "execution_count": null,
   "id": "31d479f9-f0f3-4ecd-90b7-499462aaf66a",
   "metadata": {},
   "outputs": [],
   "source": [
    "#LOAD THE DATASET \n",
    "df = pd.read_csv(r\"C:\\Users\\sneha\\Downloads\\tool\\heart.csv\")\n",
    "df.columns = df.columns.str.strip().str.replace(\" \", \"_\")\n",
    "X = df.drop(['HeartDisease'], axis=1)\n",
    "y = df['HeartDisease']"
   ]
  },
  {
   "cell_type": "code",
   "execution_count": null,
   "id": "fb4c18e1-c478-494c-82c9-59603fe57962",
   "metadata": {},
   "outputs": [],
   "source": [
    "df.shape"
   ]
  },
  {
   "cell_type": "code",
   "execution_count": null,
   "id": "4553edc1-3d14-4231-a684-dc2ee9e4669d",
   "metadata": {},
   "outputs": [],
   "source": [
    "print(df.columns.tolist())\n"
   ]
  },
  {
   "cell_type": "code",
   "execution_count": null,
   "id": "5cceee7e-2255-4283-adf0-ac63e8f269b3",
   "metadata": {},
   "outputs": [],
   "source": [
    "#PREPROCESSING THE DATA \n",
    "from sklearn.preprocessing import LabelEncoder\n",
    "encoders = {}\n",
    "for col in X.columns:\n",
    "    if X[col].dtype == 'object':\n",
    "        le = LabelEncoder()\n",
    "        X[col] = le.fit_transform(X[col])\n",
    "        encoders[col] = le  # Save encoder for this column\n",
    "print(\"Encoders created for:\", list(encoders.keys()))"
   ]
  },
  {
   "cell_type": "code",
   "execution_count": null,
   "id": "cacce616-081b-4ca5-b2bc-6c45cb6b4bcd",
   "metadata": {},
   "outputs": [],
   "source": [
    "#SPLIT THE DATA \n",
    "X_train, X_test, y_train, y_test = train_test_split(X, y, test_size=0.2, random_state=42)\n"
   ]
  },
  {
   "cell_type": "code",
   "execution_count": null,
   "id": "86ed9982-cd61-4ff6-b504-83e351373bdf",
   "metadata": {},
   "outputs": [],
   "source": [
    "#TRAIN THE MODEL\n",
    "model = RandomForestClassifier()\n",
    "model.fit(X_train, y_train)\n"
   ]
  },
  {
   "cell_type": "code",
   "execution_count": null,
   "id": "c99b07c9-5bb6-4e97-904e-a3e978141a08",
   "metadata": {},
   "outputs": [],
   "source": [
    "#PREDICT THE MODEL \n",
    "y_pred = model.predict(X_test)\n"
   ]
  },
  {
   "cell_type": "code",
   "execution_count": null,
   "id": "60ccc0f5-d9fe-432c-8872-0ad44ae09d6d",
   "metadata": {},
   "outputs": [],
   "source": [
    "import joblib\n",
    "\n",
    "# Save model\n",
    "joblib.dump(model, \"heart_model.pkl\")\n",
    "\n",
    "# Save encoders\n",
    "joblib.dump(encoders, \"encoders.pkl\")\n"
   ]
  },
  {
   "cell_type": "code",
   "execution_count": null,
   "id": "a4bfc02b-d879-4c52-9dce-e89175f5682f",
   "metadata": {},
   "outputs": [],
   "source": [
    "#CHECK ACCURACY\n",
    "print(\"Accuracy:\", accuracy_score(y_test, y_pred))\n",
    "print(\"\\nClassification Report:\\n\", classification_report(y_test, y_pred))\n"
   ]
  },
  {
   "cell_type": "code",
   "execution_count": null,
   "id": "8f0d2e08-3b89-4501-9e09-bf0559398067",
   "metadata": {},
   "outputs": [],
   "source": [
    "from sklearn.metrics import confusion_matrix, ConfusionMatrixDisplay\n",
    "cm = confusion_matrix(y_test, y_pred)\n",
    "ConfusionMatrixDisplay(confusion_matrix=cm).plot()\n"
   ]
  },
  {
   "cell_type": "code",
   "execution_count": null,
   "id": "59f2aa74-382d-4354-bb53-9975d6de01cd",
   "metadata": {},
   "outputs": [],
   "source": [
    "import matplotlib.pyplot as plt\n",
    "\n",
    "importances = model.feature_importances_\n",
    "features = X.columns\n",
    "plt.barh(features, importances)\n",
    "plt.title(\"Feature Importance\")\n",
    "plt.show()\n"
   ]
  },
  {
   "cell_type": "code",
   "execution_count": null,
   "id": "4681f350-11e2-4b02-9e2a-cbd7ab6b179e",
   "metadata": {},
   "outputs": [],
   "source": [
    "print(\"Available Encoders:\", list(encoders.keys()))\n"
   ]
  },
  {
   "cell_type": "code",
   "execution_count": null,
   "id": "7df8cc16-819e-4900-8c6e-d5f0b13d3fa8",
   "metadata": {},
   "outputs": [],
   "source": [
    "import tkinter as tk\n",
    "from tkinter import messagebox\n",
    "\n",
    "# Prediction function\n",
    "def predict():\n",
    "    try:\n",
    "        input_data = {\n",
    "            'Age': int(entries[\"Age\"].get()),\n",
    "            'Sex': entries[\"Sex\"].get(),\n",
    "            'ChestPainType': entries[\"ChestPainType\"].get(),\n",
    "            'RestingBP': int(entries[\"RestingBP\"].get()),\n",
    "            'Cholesterol': int(entries[\"Cholesterol\"].get()),\n",
    "            'FastingBS': int(entries[\"FastingBS\"].get()),\n",
    "            'RestingECG': entries[\"RestingECG\"].get(),\n",
    "            'MaxHR': int(entries[\"MaxHR\"].get()),\n",
    "            'ExerciseAngina': entries[\"ExerciseAngina\"].get(),\n",
    "            'Oldpeak': float(entries[\"Oldpeak\"].get()),\n",
    "            'ST_Slope': entries[\"ST_Slope\"].get()\n",
    "        }\n",
    "\n",
    "        new_df = pd.DataFrame([input_data])\n",
    "        for col in new_df.columns:\n",
    "            if col in encoders:\n",
    "                new_df[col] = encoders[col].transform(new_df[col])\n",
    "\n",
    "        prediction = model.predict(new_df)[0]\n",
    "        result = \"🚨 Heart Disease Detected\" if prediction == 1 else \"✅ No Heart Disease\"\n",
    "        messagebox.showinfo(\"Prediction\", result)\n",
    "\n",
    "        # Save to CSV\n",
    "        new_df[\"Prediction\"] = prediction\n",
    "        new_df.to_csv(\"prediction_result.csv\", mode='a', header=not pd.read_csv(\"prediction_result.csv\").empty if \"prediction_result.csv\" in locals() else True, index=False)\n",
    "\n",
    "    except Exception as e:\n",
    "        messagebox.showerror(\"Error\", str(e))\n",
    "\n",
    "# Build GUI\n",
    "root = tk.Tk()\n",
    "root.title(\"Heart Disease Predictor\")\n",
    "root.geometry(\"400x650\")\n",
    "\n",
    "labels = [\"Age\", \"Sex\", \"ChestPainType\", \"RestingBP\", \"Cholesterol\", \"FastingBS\",\n",
    "          \"RestingECG\", \"MaxHR\", \"ExerciseAngina\", \"Oldpeak\", \"ST_Slope\"]\n",
    "entries = {}\n",
    "\n",
    "for label in labels:\n",
    "    tk.Label(root, text=label).pack()\n",
    "    entry = tk.Entry(root)\n",
    "    entry.pack()\n",
    "    entries[label] = entry\n",
    "\n",
    "tk.Button(root, text=\"Predict\", command=predict).pack(pady=20)\n",
    "root.mainloop()\n"
   ]
  },
  {
   "cell_type": "code",
   "execution_count": null,
   "id": "e2552deb-c3a2-45b5-b5e2-6d221e7e0b4d",
   "metadata": {},
   "outputs": [],
   "source": []
  },
  {
   "cell_type": "code",
   "execution_count": null,
   "id": "22fc323c-e526-4b69-8979-8ca362ae6f94",
   "metadata": {},
   "outputs": [],
   "source": []
  },
  {
   "cell_type": "code",
   "execution_count": null,
   "id": "a3295519-a870-409a-9e8b-968145c604a5",
   "metadata": {},
   "outputs": [],
   "source": []
  }
 ],
 "metadata": {
  "kernelspec": {
   "display_name": "Python 3 (ipykernel)",
   "language": "python",
   "name": "python3"
  },
  "language_info": {
   "codemirror_mode": {
    "name": "ipython",
    "version": 3
   },
   "file_extension": ".py",
   "mimetype": "text/x-python",
   "name": "python",
   "nbconvert_exporter": "python",
   "pygments_lexer": "ipython3",
   "version": "3.12.4"
  }
 },
 "nbformat": 4,
 "nbformat_minor": 5
}
